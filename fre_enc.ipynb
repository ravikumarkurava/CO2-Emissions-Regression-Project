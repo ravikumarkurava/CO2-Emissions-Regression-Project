{
 "cells": [
  {
   "cell_type": "code",
   "execution_count": 1,
   "id": "327c4a46-69ed-4b0e-80c3-cf8883f74419",
   "metadata": {},
   "outputs": [],
   "source": [
    "import pandas as pd\n",
    "import numpy as np\n",
    "import matplotlib.pyplot as plt\n",
    "import seaborn as sns"
   ]
  },
  {
   "cell_type": "code",
   "execution_count": 2,
   "id": "28326668-094a-4e35-a484-a3fc78e28692",
   "metadata": {},
   "outputs": [
    {
     "data": {
      "text/html": [
       "<div>\n",
       "<style scoped>\n",
       "    .dataframe tbody tr th:only-of-type {\n",
       "        vertical-align: middle;\n",
       "    }\n",
       "\n",
       "    .dataframe tbody tr th {\n",
       "        vertical-align: top;\n",
       "    }\n",
       "\n",
       "    .dataframe thead th {\n",
       "        text-align: right;\n",
       "    }\n",
       "</style>\n",
       "<table border=\"1\" class=\"dataframe\">\n",
       "  <thead>\n",
       "    <tr style=\"text-align: right;\">\n",
       "      <th></th>\n",
       "      <th>engine_size</th>\n",
       "      <th>fuel_consumption_city</th>\n",
       "      <th>fuel_consumption_hwy</th>\n",
       "      <th>fuel_consumption_comb(l/100km)</th>\n",
       "      <th>fuel_consumption_comb(mpg)</th>\n",
       "      <th>cylinders_3</th>\n",
       "      <th>cylinders_4</th>\n",
       "      <th>cylinders_5</th>\n",
       "      <th>cylinders_6</th>\n",
       "      <th>cylinders_8</th>\n",
       "      <th>...</th>\n",
       "      <th>transmission_M</th>\n",
       "      <th>fuel_type_D</th>\n",
       "      <th>fuel_type_E</th>\n",
       "      <th>fuel_type_N</th>\n",
       "      <th>fuel_type_X</th>\n",
       "      <th>fuel_type_Z</th>\n",
       "      <th>make_freq</th>\n",
       "      <th>model_freq</th>\n",
       "      <th>vehicle_class_freq</th>\n",
       "      <th>co2_emissions</th>\n",
       "    </tr>\n",
       "  </thead>\n",
       "  <tbody>\n",
       "    <tr>\n",
       "      <th>0</th>\n",
       "      <td>-0.851899</td>\n",
       "      <td>-0.764893</td>\n",
       "      <td>-1.042022</td>\n",
       "      <td>-0.856464</td>\n",
       "      <td>0.775786</td>\n",
       "      <td>False</td>\n",
       "      <td>True</td>\n",
       "      <td>False</td>\n",
       "      <td>False</td>\n",
       "      <td>False</td>\n",
       "      <td>...</td>\n",
       "      <td>False</td>\n",
       "      <td>False</td>\n",
       "      <td>False</td>\n",
       "      <td>False</td>\n",
       "      <td>False</td>\n",
       "      <td>True</td>\n",
       "      <td>0.00813</td>\n",
       "      <td>0.001116</td>\n",
       "      <td>0.143791</td>\n",
       "      <td>196</td>\n",
       "    </tr>\n",
       "    <tr>\n",
       "      <th>1</th>\n",
       "      <td>-0.558899</td>\n",
       "      <td>-0.398726</td>\n",
       "      <td>-0.602985</td>\n",
       "      <td>-0.482924</td>\n",
       "      <td>0.222145</td>\n",
       "      <td>False</td>\n",
       "      <td>True</td>\n",
       "      <td>False</td>\n",
       "      <td>False</td>\n",
       "      <td>False</td>\n",
       "      <td>...</td>\n",
       "      <td>True</td>\n",
       "      <td>False</td>\n",
       "      <td>False</td>\n",
       "      <td>False</td>\n",
       "      <td>False</td>\n",
       "      <td>True</td>\n",
       "      <td>0.00813</td>\n",
       "      <td>0.001116</td>\n",
       "      <td>0.143791</td>\n",
       "      <td>221</td>\n",
       "    </tr>\n",
       "  </tbody>\n",
       "</table>\n",
       "<p>2 rows × 27 columns</p>\n",
       "</div>"
      ],
      "text/plain": [
       "   engine_size  fuel_consumption_city  fuel_consumption_hwy  \\\n",
       "0    -0.851899              -0.764893             -1.042022   \n",
       "1    -0.558899              -0.398726             -0.602985   \n",
       "\n",
       "   fuel_consumption_comb(l/100km)  fuel_consumption_comb(mpg)  cylinders_3  \\\n",
       "0                       -0.856464                    0.775786        False   \n",
       "1                       -0.482924                    0.222145        False   \n",
       "\n",
       "   cylinders_4  cylinders_5  cylinders_6  cylinders_8  ...  transmission_M  \\\n",
       "0         True        False        False        False  ...           False   \n",
       "1         True        False        False        False  ...            True   \n",
       "\n",
       "   fuel_type_D  fuel_type_E  fuel_type_N  fuel_type_X  fuel_type_Z  make_freq  \\\n",
       "0        False        False        False        False         True    0.00813   \n",
       "1        False        False        False        False         True    0.00813   \n",
       "\n",
       "   model_freq  vehicle_class_freq  co2_emissions  \n",
       "0    0.001116            0.143791            196  \n",
       "1    0.001116            0.143791            221  \n",
       "\n",
       "[2 rows x 27 columns]"
      ]
     },
     "execution_count": 2,
     "metadata": {},
     "output_type": "execute_result"
    }
   ],
   "source": [
    "df_encoded = pd.read_csv('co2_emissions_EDA_Completed.csv')\n",
    "df_encoded.head(2)"
   ]
  },
  {
   "cell_type": "code",
   "execution_count": 3,
   "id": "9a6ab645-e8c0-4caf-8491-8badc80ed44c",
   "metadata": {},
   "outputs": [
    {
     "data": {
      "text/plain": [
       "(6273, 27)"
      ]
     },
     "execution_count": 3,
     "metadata": {},
     "output_type": "execute_result"
    }
   ],
   "source": [
    "df_encoded.shape"
   ]
  },
  {
   "cell_type": "code",
   "execution_count": 4,
   "id": "fad90725-61e4-4580-b061-0a2de30a7a16",
   "metadata": {},
   "outputs": [
    {
     "name": "stdout",
     "output_type": "stream",
     "text": [
      "<class 'pandas.core.frame.DataFrame'>\n",
      "RangeIndex: 6273 entries, 0 to 6272\n",
      "Data columns (total 27 columns):\n",
      " #   Column                          Non-Null Count  Dtype  \n",
      "---  ------                          --------------  -----  \n",
      " 0   engine_size                     6273 non-null   float64\n",
      " 1   fuel_consumption_city           6273 non-null   float64\n",
      " 2   fuel_consumption_hwy            6273 non-null   float64\n",
      " 3   fuel_consumption_comb(l/100km)  6273 non-null   float64\n",
      " 4   fuel_consumption_comb(mpg)      6273 non-null   float64\n",
      " 5   cylinders_3                     6273 non-null   bool   \n",
      " 6   cylinders_4                     6273 non-null   bool   \n",
      " 7   cylinders_5                     6273 non-null   bool   \n",
      " 8   cylinders_6                     6273 non-null   bool   \n",
      " 9   cylinders_8                     6273 non-null   bool   \n",
      " 10  cylinders_10                    6273 non-null   bool   \n",
      " 11  cylinders_12                    6273 non-null   bool   \n",
      " 12  cylinders_16                    6273 non-null   bool   \n",
      " 13  transmission_A                  6273 non-null   bool   \n",
      " 14  transmission_AM                 6273 non-null   bool   \n",
      " 15  transmission_AS                 6273 non-null   bool   \n",
      " 16  transmission_AV                 6273 non-null   bool   \n",
      " 17  transmission_M                  6273 non-null   bool   \n",
      " 18  fuel_type_D                     6273 non-null   bool   \n",
      " 19  fuel_type_E                     6273 non-null   bool   \n",
      " 20  fuel_type_N                     6273 non-null   bool   \n",
      " 21  fuel_type_X                     6273 non-null   bool   \n",
      " 22  fuel_type_Z                     6273 non-null   bool   \n",
      " 23  make_freq                       6273 non-null   float64\n",
      " 24  model_freq                      6273 non-null   float64\n",
      " 25  vehicle_class_freq              6273 non-null   float64\n",
      " 26  co2_emissions                   6273 non-null   int64  \n",
      "dtypes: bool(18), float64(8), int64(1)\n",
      "memory usage: 551.5 KB\n"
     ]
    }
   ],
   "source": [
    "df_encoded.info()"
   ]
  },
  {
   "cell_type": "markdown",
   "id": "311ac40d-08e2-40e0-bc01-a666dae30127",
   "metadata": {},
   "source": [
    "### Getting JSON file for make and make_freq"
   ]
  },
  {
   "cell_type": "code",
   "execution_count": 5,
   "id": "0b545fe4-7052-4d8c-b372-103e8b921c9e",
   "metadata": {},
   "outputs": [
    {
     "name": "stdout",
     "output_type": "stream",
     "text": [
      "<class 'pandas.core.frame.DataFrame'>\n",
      "RangeIndex: 6273 entries, 0 to 6272\n",
      "Data columns (total 1 columns):\n",
      " #   Column     Non-Null Count  Dtype  \n",
      "---  ------     --------------  -----  \n",
      " 0   make_freq  6273 non-null   float64\n",
      "dtypes: float64(1)\n",
      "memory usage: 49.1 KB\n"
     ]
    }
   ],
   "source": [
    "only_make_freq = df_encoded[['make_freq']]\n",
    "only_make_freq.info()"
   ]
  },
  {
   "cell_type": "code",
   "execution_count": 6,
   "id": "ae169661-289e-497a-ac30-bcb6e2bf58ca",
   "metadata": {},
   "outputs": [
    {
     "data": {
      "text/html": [
       "<div>\n",
       "<style scoped>\n",
       "    .dataframe tbody tr th:only-of-type {\n",
       "        vertical-align: middle;\n",
       "    }\n",
       "\n",
       "    .dataframe tbody tr th {\n",
       "        vertical-align: top;\n",
       "    }\n",
       "\n",
       "    .dataframe thead th {\n",
       "        text-align: right;\n",
       "    }\n",
       "</style>\n",
       "<table border=\"1\" class=\"dataframe\">\n",
       "  <thead>\n",
       "    <tr style=\"text-align: right;\">\n",
       "      <th></th>\n",
       "      <th>make</th>\n",
       "      <th>model</th>\n",
       "      <th>vehicle_class</th>\n",
       "      <th>engine_size</th>\n",
       "      <th>cylinders</th>\n",
       "      <th>transmission</th>\n",
       "      <th>fuel_type</th>\n",
       "      <th>fuel_consumption_city</th>\n",
       "      <th>fuel_consumption_hwy</th>\n",
       "      <th>fuel_consumption_comb(l/100km)</th>\n",
       "      <th>fuel_consumption_comb(mpg)</th>\n",
       "      <th>co2_emissions</th>\n",
       "    </tr>\n",
       "  </thead>\n",
       "  <tbody>\n",
       "    <tr>\n",
       "      <th>0</th>\n",
       "      <td>ACURA</td>\n",
       "      <td>ILX</td>\n",
       "      <td>COMPACT</td>\n",
       "      <td>2.0</td>\n",
       "      <td>4</td>\n",
       "      <td>AS</td>\n",
       "      <td>Z</td>\n",
       "      <td>9.9</td>\n",
       "      <td>6.7</td>\n",
       "      <td>8.5</td>\n",
       "      <td>33</td>\n",
       "      <td>196</td>\n",
       "    </tr>\n",
       "    <tr>\n",
       "      <th>1</th>\n",
       "      <td>ACURA</td>\n",
       "      <td>ILX</td>\n",
       "      <td>COMPACT</td>\n",
       "      <td>2.4</td>\n",
       "      <td>4</td>\n",
       "      <td>M</td>\n",
       "      <td>Z</td>\n",
       "      <td>11.2</td>\n",
       "      <td>7.7</td>\n",
       "      <td>9.6</td>\n",
       "      <td>29</td>\n",
       "      <td>221</td>\n",
       "    </tr>\n",
       "  </tbody>\n",
       "</table>\n",
       "</div>"
      ],
      "text/plain": [
       "    make model vehicle_class  engine_size  cylinders transmission fuel_type  \\\n",
       "0  ACURA   ILX       COMPACT          2.0          4           AS         Z   \n",
       "1  ACURA   ILX       COMPACT          2.4          4            M         Z   \n",
       "\n",
       "   fuel_consumption_city  fuel_consumption_hwy  \\\n",
       "0                    9.9                   6.7   \n",
       "1                   11.2                   7.7   \n",
       "\n",
       "   fuel_consumption_comb(l/100km)  fuel_consumption_comb(mpg)  co2_emissions  \n",
       "0                             8.5                          33            196  \n",
       "1                             9.6                          29            221  "
      ]
     },
     "execution_count": 6,
     "metadata": {},
     "output_type": "execute_result"
    }
   ],
   "source": [
    "df_original = pd.read_csv('co2_emissions.csv')\n",
    "df_original.head(2)"
   ]
  },
  {
   "cell_type": "code",
   "execution_count": 7,
   "id": "3d40d27a-4b61-4ee8-8703-f3e14de087d0",
   "metadata": {},
   "outputs": [],
   "source": [
    "df_original.drop_duplicates(keep='first', inplace=True)"
   ]
  },
  {
   "cell_type": "code",
   "execution_count": 8,
   "id": "b0e21fa9-39f2-4c8a-ba2a-8de175425510",
   "metadata": {},
   "outputs": [],
   "source": [
    "df_original.reset_index(drop=True, inplace=True)"
   ]
  },
  {
   "cell_type": "code",
   "execution_count": 9,
   "id": "f1925936-5216-4dd9-b9f3-fc66a8ea19b4",
   "metadata": {},
   "outputs": [
    {
     "name": "stdout",
     "output_type": "stream",
     "text": [
      "<class 'pandas.core.frame.DataFrame'>\n",
      "RangeIndex: 6273 entries, 0 to 6272\n",
      "Data columns (total 12 columns):\n",
      " #   Column                          Non-Null Count  Dtype  \n",
      "---  ------                          --------------  -----  \n",
      " 0   make                            6273 non-null   object \n",
      " 1   model                           6273 non-null   object \n",
      " 2   vehicle_class                   6273 non-null   object \n",
      " 3   engine_size                     6273 non-null   float64\n",
      " 4   cylinders                       6273 non-null   int64  \n",
      " 5   transmission                    6273 non-null   object \n",
      " 6   fuel_type                       6273 non-null   object \n",
      " 7   fuel_consumption_city           6273 non-null   float64\n",
      " 8   fuel_consumption_hwy            6273 non-null   float64\n",
      " 9   fuel_consumption_comb(l/100km)  6273 non-null   float64\n",
      " 10  fuel_consumption_comb(mpg)      6273 non-null   int64  \n",
      " 11  co2_emissions                   6273 non-null   int64  \n",
      "dtypes: float64(4), int64(3), object(5)\n",
      "memory usage: 588.2+ KB\n"
     ]
    }
   ],
   "source": [
    "df_original.info()"
   ]
  },
  {
   "cell_type": "code",
   "execution_count": 10,
   "id": "d3875244-0e78-4e5b-a70a-b64851c6c4ed",
   "metadata": {},
   "outputs": [],
   "source": [
    "only_make_original = df_original['make']"
   ]
  },
  {
   "cell_type": "code",
   "execution_count": 11,
   "id": "1f075ed3-e10b-45db-bf77-02c75d9d00d7",
   "metadata": {},
   "outputs": [
    {
     "data": {
      "text/plain": [
       "0    ACURA\n",
       "1    ACURA\n",
       "Name: make, dtype: object"
      ]
     },
     "execution_count": 11,
     "metadata": {},
     "output_type": "execute_result"
    }
   ],
   "source": [
    "only_make_original.head(2)"
   ]
  },
  {
   "cell_type": "code",
   "execution_count": 12,
   "id": "fe5a5bdd-5c29-4bc7-8467-b28cf6cfb91c",
   "metadata": {},
   "outputs": [
    {
     "data": {
      "text/html": [
       "<div>\n",
       "<style scoped>\n",
       "    .dataframe tbody tr th:only-of-type {\n",
       "        vertical-align: middle;\n",
       "    }\n",
       "\n",
       "    .dataframe tbody tr th {\n",
       "        vertical-align: top;\n",
       "    }\n",
       "\n",
       "    .dataframe thead th {\n",
       "        text-align: right;\n",
       "    }\n",
       "</style>\n",
       "<table border=\"1\" class=\"dataframe\">\n",
       "  <thead>\n",
       "    <tr style=\"text-align: right;\">\n",
       "      <th></th>\n",
       "      <th>make_freq</th>\n",
       "    </tr>\n",
       "  </thead>\n",
       "  <tbody>\n",
       "    <tr>\n",
       "      <th>0</th>\n",
       "      <td>0.00813</td>\n",
       "    </tr>\n",
       "    <tr>\n",
       "      <th>1</th>\n",
       "      <td>0.00813</td>\n",
       "    </tr>\n",
       "  </tbody>\n",
       "</table>\n",
       "</div>"
      ],
      "text/plain": [
       "   make_freq\n",
       "0    0.00813\n",
       "1    0.00813"
      ]
     },
     "execution_count": 12,
     "metadata": {},
     "output_type": "execute_result"
    }
   ],
   "source": [
    "only_make_freq.head(2)"
   ]
  },
  {
   "cell_type": "code",
   "execution_count": 15,
   "id": "410f1aee-88b4-4e48-bfab-07e047b79d3b",
   "metadata": {},
   "outputs": [
    {
     "data": {
      "text/html": [
       "<div>\n",
       "<style scoped>\n",
       "    .dataframe tbody tr th:only-of-type {\n",
       "        vertical-align: middle;\n",
       "    }\n",
       "\n",
       "    .dataframe tbody tr th {\n",
       "        vertical-align: top;\n",
       "    }\n",
       "\n",
       "    .dataframe thead th {\n",
       "        text-align: right;\n",
       "    }\n",
       "</style>\n",
       "<table border=\"1\" class=\"dataframe\">\n",
       "  <thead>\n",
       "    <tr style=\"text-align: right;\">\n",
       "      <th></th>\n",
       "      <th>make</th>\n",
       "      <th>make_freq</th>\n",
       "    </tr>\n",
       "  </thead>\n",
       "  <tbody>\n",
       "    <tr>\n",
       "      <th>0</th>\n",
       "      <td>ACURA</td>\n",
       "      <td>0.008130</td>\n",
       "    </tr>\n",
       "    <tr>\n",
       "      <th>1</th>\n",
       "      <td>ACURA</td>\n",
       "      <td>0.008130</td>\n",
       "    </tr>\n",
       "    <tr>\n",
       "      <th>2</th>\n",
       "      <td>ACURA</td>\n",
       "      <td>0.008130</td>\n",
       "    </tr>\n",
       "    <tr>\n",
       "      <th>3</th>\n",
       "      <td>ACURA</td>\n",
       "      <td>0.008130</td>\n",
       "    </tr>\n",
       "    <tr>\n",
       "      <th>4</th>\n",
       "      <td>ACURA</td>\n",
       "      <td>0.008130</td>\n",
       "    </tr>\n",
       "    <tr>\n",
       "      <th>...</th>\n",
       "      <td>...</td>\n",
       "      <td>...</td>\n",
       "    </tr>\n",
       "    <tr>\n",
       "      <th>6268</th>\n",
       "      <td>VOLVO</td>\n",
       "      <td>0.018811</td>\n",
       "    </tr>\n",
       "    <tr>\n",
       "      <th>6269</th>\n",
       "      <td>VOLVO</td>\n",
       "      <td>0.018811</td>\n",
       "    </tr>\n",
       "    <tr>\n",
       "      <th>6270</th>\n",
       "      <td>VOLVO</td>\n",
       "      <td>0.018811</td>\n",
       "    </tr>\n",
       "    <tr>\n",
       "      <th>6271</th>\n",
       "      <td>VOLVO</td>\n",
       "      <td>0.018811</td>\n",
       "    </tr>\n",
       "    <tr>\n",
       "      <th>6272</th>\n",
       "      <td>VOLVO</td>\n",
       "      <td>0.018811</td>\n",
       "    </tr>\n",
       "  </tbody>\n",
       "</table>\n",
       "<p>6273 rows × 2 columns</p>\n",
       "</div>"
      ],
      "text/plain": [
       "       make  make_freq\n",
       "0     ACURA   0.008130\n",
       "1     ACURA   0.008130\n",
       "2     ACURA   0.008130\n",
       "3     ACURA   0.008130\n",
       "4     ACURA   0.008130\n",
       "...     ...        ...\n",
       "6268  VOLVO   0.018811\n",
       "6269  VOLVO   0.018811\n",
       "6270  VOLVO   0.018811\n",
       "6271  VOLVO   0.018811\n",
       "6272  VOLVO   0.018811\n",
       "\n",
       "[6273 rows x 2 columns]"
      ]
     },
     "execution_count": 15,
     "metadata": {},
     "output_type": "execute_result"
    }
   ],
   "source": [
    "only_make = pd.concat([only_make_original, only_make_freq], axis=1)\n",
    "only_make"
   ]
  },
  {
   "cell_type": "code",
   "execution_count": 14,
   "id": "3f025c38-2dc9-497a-86a7-3fab6f2695bb",
   "metadata": {},
   "outputs": [
    {
     "name": "stdout",
     "output_type": "stream",
     "text": [
      "<class 'pandas.core.frame.DataFrame'>\n",
      "RangeIndex: 6273 entries, 0 to 6272\n",
      "Data columns (total 2 columns):\n",
      " #   Column     Non-Null Count  Dtype  \n",
      "---  ------     --------------  -----  \n",
      " 0   make       6273 non-null   object \n",
      " 1   make_freq  6273 non-null   float64\n",
      "dtypes: float64(1), object(1)\n",
      "memory usage: 98.1+ KB\n"
     ]
    }
   ],
   "source": [
    "only_make.info()"
   ]
  },
  {
   "cell_type": "code",
   "execution_count": 17,
   "id": "5ab7d240-8982-40da-9408-d7eed2c7da78",
   "metadata": {},
   "outputs": [],
   "source": [
    "make_freq_dict = dict(zip(only_make['make'], only_make['make_freq']))"
   ]
  },
  {
   "cell_type": "code",
   "execution_count": 18,
   "id": "eb8adaeb-6294-41d7-af20-ae8e4fb50d25",
   "metadata": {},
   "outputs": [],
   "source": [
    "import json\n",
    "with open('make_freq.json', 'w') as f:\n",
    "    json.dump(make_freq_dict, f)"
   ]
  },
  {
   "cell_type": "markdown",
   "id": "363c9fc5-fd57-4f2e-bac4-9b01ea967485",
   "metadata": {},
   "source": [
    "### Getting JSON file for model and model_freq"
   ]
  },
  {
   "cell_type": "code",
   "execution_count": 19,
   "id": "78911727-ac52-4b66-87ec-7d70c669a618",
   "metadata": {},
   "outputs": [
    {
     "name": "stdout",
     "output_type": "stream",
     "text": [
      "<class 'pandas.core.frame.DataFrame'>\n",
      "RangeIndex: 6273 entries, 0 to 6272\n",
      "Data columns (total 1 columns):\n",
      " #   Column      Non-Null Count  Dtype  \n",
      "---  ------      --------------  -----  \n",
      " 0   model_freq  6273 non-null   float64\n",
      "dtypes: float64(1)\n",
      "memory usage: 49.1 KB\n"
     ]
    }
   ],
   "source": [
    "only_model_freq = df_encoded[['model_freq']]\n",
    "only_model_freq.info()"
   ]
  },
  {
   "cell_type": "code",
   "execution_count": 20,
   "id": "f7b28957-5c12-44c6-b860-b7efd724ac69",
   "metadata": {},
   "outputs": [],
   "source": [
    "only_model_original = df_original['model']"
   ]
  },
  {
   "cell_type": "code",
   "execution_count": 21,
   "id": "1e69ca27-31e3-4516-bde1-0b340067639f",
   "metadata": {},
   "outputs": [
    {
     "data": {
      "text/plain": [
       "0    ILX\n",
       "1    ILX\n",
       "Name: model, dtype: object"
      ]
     },
     "execution_count": 21,
     "metadata": {},
     "output_type": "execute_result"
    }
   ],
   "source": [
    "only_model_original.head(2)"
   ]
  },
  {
   "cell_type": "code",
   "execution_count": 22,
   "id": "5380104b-7bf2-4c97-8e92-d4f6464f21e4",
   "metadata": {},
   "outputs": [
    {
     "data": {
      "text/html": [
       "<div>\n",
       "<style scoped>\n",
       "    .dataframe tbody tr th:only-of-type {\n",
       "        vertical-align: middle;\n",
       "    }\n",
       "\n",
       "    .dataframe tbody tr th {\n",
       "        vertical-align: top;\n",
       "    }\n",
       "\n",
       "    .dataframe thead th {\n",
       "        text-align: right;\n",
       "    }\n",
       "</style>\n",
       "<table border=\"1\" class=\"dataframe\">\n",
       "  <thead>\n",
       "    <tr style=\"text-align: right;\">\n",
       "      <th></th>\n",
       "      <th>model_freq</th>\n",
       "    </tr>\n",
       "  </thead>\n",
       "  <tbody>\n",
       "    <tr>\n",
       "      <th>0</th>\n",
       "      <td>0.001116</td>\n",
       "    </tr>\n",
       "    <tr>\n",
       "      <th>1</th>\n",
       "      <td>0.001116</td>\n",
       "    </tr>\n",
       "  </tbody>\n",
       "</table>\n",
       "</div>"
      ],
      "text/plain": [
       "   model_freq\n",
       "0    0.001116\n",
       "1    0.001116"
      ]
     },
     "execution_count": 22,
     "metadata": {},
     "output_type": "execute_result"
    }
   ],
   "source": [
    "only_model_freq.head(2)"
   ]
  },
  {
   "cell_type": "code",
   "execution_count": 23,
   "id": "bed9c3bc-8af0-46a5-989d-49ef289e85dd",
   "metadata": {},
   "outputs": [
    {
     "data": {
      "text/html": [
       "<div>\n",
       "<style scoped>\n",
       "    .dataframe tbody tr th:only-of-type {\n",
       "        vertical-align: middle;\n",
       "    }\n",
       "\n",
       "    .dataframe tbody tr th {\n",
       "        vertical-align: top;\n",
       "    }\n",
       "\n",
       "    .dataframe thead th {\n",
       "        text-align: right;\n",
       "    }\n",
       "</style>\n",
       "<table border=\"1\" class=\"dataframe\">\n",
       "  <thead>\n",
       "    <tr style=\"text-align: right;\">\n",
       "      <th></th>\n",
       "      <th>model</th>\n",
       "      <th>model_freq</th>\n",
       "    </tr>\n",
       "  </thead>\n",
       "  <tbody>\n",
       "    <tr>\n",
       "      <th>0</th>\n",
       "      <td>ILX</td>\n",
       "      <td>0.001116</td>\n",
       "    </tr>\n",
       "    <tr>\n",
       "      <th>1</th>\n",
       "      <td>ILX</td>\n",
       "      <td>0.001116</td>\n",
       "    </tr>\n",
       "    <tr>\n",
       "      <th>2</th>\n",
       "      <td>ILX HYBRID</td>\n",
       "      <td>0.000319</td>\n",
       "    </tr>\n",
       "    <tr>\n",
       "      <th>3</th>\n",
       "      <td>MDX 4WD</td>\n",
       "      <td>0.000159</td>\n",
       "    </tr>\n",
       "    <tr>\n",
       "      <th>4</th>\n",
       "      <td>RDX AWD</td>\n",
       "      <td>0.000638</td>\n",
       "    </tr>\n",
       "    <tr>\n",
       "      <th>...</th>\n",
       "      <td>...</td>\n",
       "      <td>...</td>\n",
       "    </tr>\n",
       "    <tr>\n",
       "      <th>6268</th>\n",
       "      <td>XC40 T5 AWD</td>\n",
       "      <td>0.000319</td>\n",
       "    </tr>\n",
       "    <tr>\n",
       "      <th>6269</th>\n",
       "      <td>XC60 T5 AWD</td>\n",
       "      <td>0.000956</td>\n",
       "    </tr>\n",
       "    <tr>\n",
       "      <th>6270</th>\n",
       "      <td>XC60 T6 AWD</td>\n",
       "      <td>0.000956</td>\n",
       "    </tr>\n",
       "    <tr>\n",
       "      <th>6271</th>\n",
       "      <td>XC90 T5 AWD</td>\n",
       "      <td>0.000638</td>\n",
       "    </tr>\n",
       "    <tr>\n",
       "      <th>6272</th>\n",
       "      <td>XC90 T6 AWD</td>\n",
       "      <td>0.000797</td>\n",
       "    </tr>\n",
       "  </tbody>\n",
       "</table>\n",
       "<p>6273 rows × 2 columns</p>\n",
       "</div>"
      ],
      "text/plain": [
       "            model  model_freq\n",
       "0             ILX    0.001116\n",
       "1             ILX    0.001116\n",
       "2      ILX HYBRID    0.000319\n",
       "3         MDX 4WD    0.000159\n",
       "4         RDX AWD    0.000638\n",
       "...           ...         ...\n",
       "6268  XC40 T5 AWD    0.000319\n",
       "6269  XC60 T5 AWD    0.000956\n",
       "6270  XC60 T6 AWD    0.000956\n",
       "6271  XC90 T5 AWD    0.000638\n",
       "6272  XC90 T6 AWD    0.000797\n",
       "\n",
       "[6273 rows x 2 columns]"
      ]
     },
     "execution_count": 23,
     "metadata": {},
     "output_type": "execute_result"
    }
   ],
   "source": [
    "only_model = pd.concat([only_model_original, only_model_freq], axis=1)\n",
    "only_model"
   ]
  },
  {
   "cell_type": "code",
   "execution_count": 24,
   "id": "570e6aec-8197-4e3c-ac5c-7b5e3bf10667",
   "metadata": {},
   "outputs": [
    {
     "name": "stdout",
     "output_type": "stream",
     "text": [
      "<class 'pandas.core.frame.DataFrame'>\n",
      "RangeIndex: 6273 entries, 0 to 6272\n",
      "Data columns (total 2 columns):\n",
      " #   Column      Non-Null Count  Dtype  \n",
      "---  ------      --------------  -----  \n",
      " 0   model       6273 non-null   object \n",
      " 1   model_freq  6273 non-null   float64\n",
      "dtypes: float64(1), object(1)\n",
      "memory usage: 98.1+ KB\n"
     ]
    }
   ],
   "source": [
    "only_model.info()"
   ]
  },
  {
   "cell_type": "code",
   "execution_count": 25,
   "id": "c8628247-8f21-4ad5-8324-448384d4dc6d",
   "metadata": {},
   "outputs": [],
   "source": [
    "model_freq_dict = dict(zip(only_model['model'], only_model['model_freq']))"
   ]
  },
  {
   "cell_type": "code",
   "execution_count": 26,
   "id": "e0373aff-f886-46b1-b1f0-2c70404f5de2",
   "metadata": {},
   "outputs": [],
   "source": [
    "import json\n",
    "with open('model_freq.json', 'w') as f:\n",
    "    json.dump(model_freq_dict, f)"
   ]
  },
  {
   "cell_type": "markdown",
   "id": "6947b09a-71bd-46c5-829e-30b01b41cfce",
   "metadata": {},
   "source": [
    "### Getting JSON file for vehicle_class and vehicle_class_freq"
   ]
  },
  {
   "cell_type": "code",
   "execution_count": 27,
   "id": "6048f147-10fa-432b-a482-6ad265a387e8",
   "metadata": {},
   "outputs": [
    {
     "name": "stdout",
     "output_type": "stream",
     "text": [
      "<class 'pandas.core.frame.DataFrame'>\n",
      "RangeIndex: 6273 entries, 0 to 6272\n",
      "Data columns (total 1 columns):\n",
      " #   Column              Non-Null Count  Dtype  \n",
      "---  ------              --------------  -----  \n",
      " 0   vehicle_class_freq  6273 non-null   float64\n",
      "dtypes: float64(1)\n",
      "memory usage: 49.1 KB\n"
     ]
    }
   ],
   "source": [
    "only_vehicle_class_freq = df_encoded[['vehicle_class_freq']]\n",
    "only_vehicle_class_freq.info()"
   ]
  },
  {
   "cell_type": "code",
   "execution_count": 28,
   "id": "2f54d6ab-211e-4756-8dc0-bfa90b75bb3e",
   "metadata": {},
   "outputs": [],
   "source": [
    "only_vehicle_class_original = df_original['vehicle_class']"
   ]
  },
  {
   "cell_type": "code",
   "execution_count": 30,
   "id": "f23268c4-823a-4e87-bd97-7494c669e28d",
   "metadata": {},
   "outputs": [
    {
     "data": {
      "text/plain": [
       "0    COMPACT\n",
       "1    COMPACT\n",
       "Name: vehicle_class, dtype: object"
      ]
     },
     "execution_count": 30,
     "metadata": {},
     "output_type": "execute_result"
    }
   ],
   "source": [
    "only_vehicle_class_original.head(2)"
   ]
  },
  {
   "cell_type": "code",
   "execution_count": 29,
   "id": "191d4529-e0f6-4eb7-810e-4e4819451316",
   "metadata": {},
   "outputs": [
    {
     "data": {
      "text/html": [
       "<div>\n",
       "<style scoped>\n",
       "    .dataframe tbody tr th:only-of-type {\n",
       "        vertical-align: middle;\n",
       "    }\n",
       "\n",
       "    .dataframe tbody tr th {\n",
       "        vertical-align: top;\n",
       "    }\n",
       "\n",
       "    .dataframe thead th {\n",
       "        text-align: right;\n",
       "    }\n",
       "</style>\n",
       "<table border=\"1\" class=\"dataframe\">\n",
       "  <thead>\n",
       "    <tr style=\"text-align: right;\">\n",
       "      <th></th>\n",
       "      <th>vehicle_class_freq</th>\n",
       "    </tr>\n",
       "  </thead>\n",
       "  <tbody>\n",
       "    <tr>\n",
       "      <th>0</th>\n",
       "      <td>0.143791</td>\n",
       "    </tr>\n",
       "    <tr>\n",
       "      <th>1</th>\n",
       "      <td>0.143791</td>\n",
       "    </tr>\n",
       "  </tbody>\n",
       "</table>\n",
       "</div>"
      ],
      "text/plain": [
       "   vehicle_class_freq\n",
       "0            0.143791\n",
       "1            0.143791"
      ]
     },
     "execution_count": 29,
     "metadata": {},
     "output_type": "execute_result"
    }
   ],
   "source": [
    "only_vehicle_class_freq.head(2)"
   ]
  },
  {
   "cell_type": "code",
   "execution_count": 31,
   "id": "745c4f7e-889d-4459-9cbe-f283209cbf61",
   "metadata": {},
   "outputs": [
    {
     "data": {
      "text/html": [
       "<div>\n",
       "<style scoped>\n",
       "    .dataframe tbody tr th:only-of-type {\n",
       "        vertical-align: middle;\n",
       "    }\n",
       "\n",
       "    .dataframe tbody tr th {\n",
       "        vertical-align: top;\n",
       "    }\n",
       "\n",
       "    .dataframe thead th {\n",
       "        text-align: right;\n",
       "    }\n",
       "</style>\n",
       "<table border=\"1\" class=\"dataframe\">\n",
       "  <thead>\n",
       "    <tr style=\"text-align: right;\">\n",
       "      <th></th>\n",
       "      <th>vehicle_class</th>\n",
       "      <th>vehicle_class_freq</th>\n",
       "    </tr>\n",
       "  </thead>\n",
       "  <tbody>\n",
       "    <tr>\n",
       "      <th>0</th>\n",
       "      <td>COMPACT</td>\n",
       "      <td>0.143791</td>\n",
       "    </tr>\n",
       "    <tr>\n",
       "      <th>1</th>\n",
       "      <td>COMPACT</td>\n",
       "      <td>0.143791</td>\n",
       "    </tr>\n",
       "    <tr>\n",
       "      <th>2</th>\n",
       "      <td>COMPACT</td>\n",
       "      <td>0.143791</td>\n",
       "    </tr>\n",
       "    <tr>\n",
       "      <th>3</th>\n",
       "      <td>SUV - SMALL</td>\n",
       "      <td>0.160051</td>\n",
       "    </tr>\n",
       "    <tr>\n",
       "      <th>4</th>\n",
       "      <td>SUV - SMALL</td>\n",
       "      <td>0.160051</td>\n",
       "    </tr>\n",
       "    <tr>\n",
       "      <th>...</th>\n",
       "      <td>...</td>\n",
       "      <td>...</td>\n",
       "    </tr>\n",
       "    <tr>\n",
       "      <th>6268</th>\n",
       "      <td>SUV - SMALL</td>\n",
       "      <td>0.160051</td>\n",
       "    </tr>\n",
       "    <tr>\n",
       "      <th>6269</th>\n",
       "      <td>SUV - SMALL</td>\n",
       "      <td>0.160051</td>\n",
       "    </tr>\n",
       "    <tr>\n",
       "      <th>6270</th>\n",
       "      <td>SUV - SMALL</td>\n",
       "      <td>0.160051</td>\n",
       "    </tr>\n",
       "    <tr>\n",
       "      <th>6271</th>\n",
       "      <td>SUV - STANDARD</td>\n",
       "      <td>0.097720</td>\n",
       "    </tr>\n",
       "    <tr>\n",
       "      <th>6272</th>\n",
       "      <td>SUV - STANDARD</td>\n",
       "      <td>0.097720</td>\n",
       "    </tr>\n",
       "  </tbody>\n",
       "</table>\n",
       "<p>6273 rows × 2 columns</p>\n",
       "</div>"
      ],
      "text/plain": [
       "       vehicle_class  vehicle_class_freq\n",
       "0            COMPACT            0.143791\n",
       "1            COMPACT            0.143791\n",
       "2            COMPACT            0.143791\n",
       "3        SUV - SMALL            0.160051\n",
       "4        SUV - SMALL            0.160051\n",
       "...              ...                 ...\n",
       "6268     SUV - SMALL            0.160051\n",
       "6269     SUV - SMALL            0.160051\n",
       "6270     SUV - SMALL            0.160051\n",
       "6271  SUV - STANDARD            0.097720\n",
       "6272  SUV - STANDARD            0.097720\n",
       "\n",
       "[6273 rows x 2 columns]"
      ]
     },
     "execution_count": 31,
     "metadata": {},
     "output_type": "execute_result"
    }
   ],
   "source": [
    "only_vehicle_class = pd.concat([only_vehicle_class_original, only_vehicle_class_freq], axis=1)\n",
    "only_vehicle_class"
   ]
  },
  {
   "cell_type": "code",
   "execution_count": 32,
   "id": "81b3718b-e441-470e-889a-7ecca199721c",
   "metadata": {},
   "outputs": [
    {
     "name": "stdout",
     "output_type": "stream",
     "text": [
      "<class 'pandas.core.frame.DataFrame'>\n",
      "RangeIndex: 6273 entries, 0 to 6272\n",
      "Data columns (total 2 columns):\n",
      " #   Column              Non-Null Count  Dtype  \n",
      "---  ------              --------------  -----  \n",
      " 0   vehicle_class       6273 non-null   object \n",
      " 1   vehicle_class_freq  6273 non-null   float64\n",
      "dtypes: float64(1), object(1)\n",
      "memory usage: 98.1+ KB\n"
     ]
    }
   ],
   "source": [
    "only_vehicle_class.info()"
   ]
  },
  {
   "cell_type": "code",
   "execution_count": 33,
   "id": "1dec2e24-4034-499f-9bb1-908a5c141b6f",
   "metadata": {},
   "outputs": [],
   "source": [
    "vehicle_class_freq_dict = dict(zip(only_vehicle_class['vehicle_class'], only_vehicle_class['vehicle_class_freq']))"
   ]
  },
  {
   "cell_type": "code",
   "execution_count": 34,
   "id": "b9106ec8-9103-45b9-b2af-36ae0c4341cd",
   "metadata": {},
   "outputs": [],
   "source": [
    "import json\n",
    "with open('vehicle_class_freq.json', 'w') as f:\n",
    "    json.dump(vehicle_class_freq_dict, f)"
   ]
  },
  {
   "cell_type": "code",
   "execution_count": null,
   "id": "acb789c6-40bd-4948-9a84-34b8a3dfe94b",
   "metadata": {},
   "outputs": [],
   "source": []
  }
 ],
 "metadata": {
  "kernelspec": {
   "display_name": "Python [conda env:base] *",
   "language": "python",
   "name": "conda-base-py"
  },
  "language_info": {
   "codemirror_mode": {
    "name": "ipython",
    "version": 3
   },
   "file_extension": ".py",
   "mimetype": "text/x-python",
   "name": "python",
   "nbconvert_exporter": "python",
   "pygments_lexer": "ipython3",
   "version": "3.12.7"
  }
 },
 "nbformat": 4,
 "nbformat_minor": 5
}
